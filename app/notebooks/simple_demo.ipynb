{
 "cells": [
  {
   "cell_type": "markdown",
   "metadata": {},
   "source": [
    "# Electronic Parts Country of Origin Prediction\n",
    "\n",
    "Simple demo using BGE-Large embeddings via vLLM and KNN classification."
   ]
  },
  {
   "cell_type": "markdown",
   "metadata": {},
   "source": [
    "## 1. Setup and Configuration"
   ]
  },
  {
   "cell_type": "code",
   "execution_count": null,
   "metadata": {},
   "outputs": [],
   "source": [
    "import os\n",
    "import pandas as pd\n",
    "import numpy as np\n",
    "from sklearn.preprocessing import LabelEncoder\n",
    "from sklearn.model_selection import train_test_split\n",
    "from sklearn.neighbors import KNeighborsClassifier\n",
    "from sklearn.metrics import accuracy_score, confusion_matrix, classification_report\n",
    "import sys\n",
    "from dotenv import load_dotenv\n",
    "import matplotlib.pyplot as plt\n",
    "import seaborn as sns\n",
    "load_dotenv()\n",
    "sys.path.append('../utils/')\n",
    "from vllm_client import create_vllm_client, get_embeddings"
   ]
  },
  {
   "cell_type": "code",
   "execution_count": null,
   "metadata": {},
   "outputs": [],
   "source": [
    "# Configuration - your vLLM details are set via environment variables\n",
    "# These are automatically configured by the workbench deployment\n",
    "\n",
    "ENDPOINT = os.getenv('ENDPOINT')\n",
    "EMBEDDING_MODEL = os.getenv('EMBEDDING_MODEL')\n",
    "API_KEY = os.getenv('API_KEY')\n",
    "\n",
    "print(f\"Endpoint: {ENDPOINT}\")\n",
    "print(f\"Model: {EMBEDDING_MODEL}\")\n",
    "print(f\"API Key: {'[CONFIGURED]' if API_KEY else '[MISSING - set in deployment]'}\")"
   ]
  },
  {
   "cell_type": "markdown",
   "metadata": {},
   "source": [
    "## 2. Load Data"
   ]
  },
  {
   "cell_type": "code",
   "execution_count": null,
   "metadata": {},
   "outputs": [],
   "source": [
    "# Load the synthetic electronics data\n",
    "\n",
    "df = pd.read_csv('../data/synthetic_electronics_parts_1k.csv')\n",
    "\n",
    "df.head()"
   ]
  },
  {
   "cell_type": "markdown",
   "metadata": {},
   "source": [
    "## 3. Connect to vLLM and Generate Embeddings"
   ]
  },
  {
   "cell_type": "code",
   "execution_count": null,
   "metadata": {},
   "outputs": [],
   "source": [
    "# Create vLLM client\n",
    "client = create_vllm_client(ENDPOINT, EMBEDDING_MODEL, API_KEY)"
   ]
  },
  {
   "cell_type": "code",
   "execution_count": null,
   "metadata": {},
   "outputs": [],
   "source": [
    "# Generate embeddings for part descriptions\n",
    "descriptions = df['Part_Description'].tolist()\n",
    "print(f\"🔄 Generating embeddings for {len(descriptions)} descriptions...\")\n",
    "\n",
    "embeddings = get_embeddings(client, descriptions, EMBEDDING_MODEL)\n",
    "\n",
    "if embeddings:\n",
    "    X = np.array(embeddings)\n",
    "    print(f\"✅ Generated embeddings with shape: {X.shape}\")\n",
    "    print(f\"   - Embedding dimension: {X.shape[1]}\")\n",
    "else:\n",
    "    print(\"❌ Failed to generate embeddings\")\n",
    "    print(\"Check your vLLM endpoint and API key configuration\")"
   ]
  },
  {
   "cell_type": "markdown",
   "metadata": {},
   "source": [
    "## 4. Train KNN Classifier"
   ]
  },
  {
   "cell_type": "code",
   "execution_count": null,
   "metadata": {},
   "outputs": [],
   "source": [
    "# Prepare labels\n",
    "label_encoder = LabelEncoder()\n",
    "y = label_encoder.fit_transform(df['Country_Of_Origin'])\n",
    "class_names = label_encoder.classes_\n",
    "\n",
    "print(f\"📊 Dataset info:\")\n",
    "print(f\"   - Total samples: {len(X)}\")\n",
    "print(f\"   - Number of countries: {len(class_names)}\")\n",
    "print(f\"   - Countries: {list(class_names)}\")"
   ]
  },
  {
   "cell_type": "code",
   "execution_count": null,
   "metadata": {},
   "outputs": [],
   "source": [
    "# Split data for training and testing\n",
    "X_train, X_test, y_train, y_test = train_test_split(\n",
    "    X, y, test_size=0.2, random_state=42, stratify=y\n",
    ")\n",
    "print(f\"Split data: {len(X_train)} train, {len(X_test)} test\")\n"
   ]
  },
  {
   "cell_type": "code",
   "execution_count": null,
   "metadata": {},
   "outputs": [],
   "source": [
    "# Train KNN classifier\n",
    "knn = KNeighborsClassifier(n_neighbors=3)\n",
    "print(f\"🤖 Training KNN classifier with k={k}...\")\n",
    "knn.fit(X_train, y_train)\n",
    "print(\"✅ KNN training complete\")"
   ]
  },
  {
   "cell_type": "markdown",
   "metadata": {},
   "source": [
    "## 5. Evaluate Model"
   ]
  },
  {
   "cell_type": "code",
   "execution_count": null,
   "metadata": {},
   "outputs": [],
   "source": [
    "# Make predictions\n",
    "y_pred = knn.predict(X_test)\n",
    "accuracy = accuracy_score(y_test, y_pred)\n",
    "\n",
    "print(f\"🎯 Model Performance:\")\n",
    "print(f\"   - Accuracy: {accuracy:.1%}\")"
   ]
  },
  {
   "cell_type": "code",
   "execution_count": null,
   "metadata": {},
   "outputs": [],
   "source": [
    "# Show detailed results\n",
    "print(\"\\n📊 Detailed Classification Report:\")\n",
    "print(classification_report(y_test, y_pred, target_names=class_names))"
   ]
  },
  {
   "cell_type": "markdown",
   "metadata": {},
   "source": [
    "## 6. Visualize Results"
   ]
  },
  {
   "cell_type": "code",
   "execution_count": null,
   "metadata": {},
   "outputs": [],
   "source": [
    "# Create confusion matrix\n",
    "if len(class_names) > 1:\n",
    "    cm = confusion_matrix(y_test, y_pred)\n",
    "    \n",
    "    plt.figure(figsize=(8, 6))\n",
    "    sns.heatmap(cm, annot=True, fmt='d', cmap='Blues',\n",
    "               xticklabels=class_names, yticklabels=class_names)\n",
    "    plt.title('Confusion Matrix - Country of Origin Prediction')\n",
    "    plt.xlabel('Predicted Country')\n",
    "    plt.ylabel('Actual Country')\n",
    "    plt.xticks(rotation=45)\n",
    "    plt.tight_layout()\n",
    "    plt.show()\n",
    "else:\n",
    "    print(\"Skipping confusion matrix (only one class)\")"
   ]
  },
  {
   "cell_type": "code",
   "execution_count": null,
   "metadata": {},
   "outputs": [],
   "source": [
    "# Show sample predictions\n",
    "print(\"\\n🔍 Sample Predictions:\")\n",
    "print(\"=\" * 80)\n",
    "\n",
    "for i in range(min(len(X_test), 5)):\n",
    "    desc = descriptions[i] if i < len(descriptions) else \"Sample description\"\n",
    "    actual = class_names[y_test[i]]\n",
    "    predicted = class_names[y_pred[i]]\n",
    "    \n",
    "    print(f\"\\nSample {i+1}:\")\n",
    "    print(f\"Description: {desc[:100]}{'...' if len(desc) > 100 else ''}\")\n",
    "    print(f\"Actual: {actual}\")\n",
    "    print(f\"Predicted: {predicted}\")\n",
    "    print(f\"Result: {'✅ Correct' if actual == predicted else '❌ Incorrect'}\")"
   ]
  },
  {
   "cell_type": "markdown",
   "metadata": {},
   "source": [
    "## 7. Test with New Examples"
   ]
  },
  {
   "cell_type": "code",
   "execution_count": null,
   "metadata": {},
   "outputs": [],
   "source": [
    "# Test with new part descriptions\n",
    "test_descriptions = [\n",
    "    \"high-frequency RF transistor for mobile communication systems\",\n",
    "    \"robust power MOSFET for electric vehicle inverters\",\n",
    "    \"miniature MEMS accelerometer for wearable fitness trackers\",\n",
    "    \"radiation-hardened FPGA for aerospace applications\",\n",
    "    \"multi-layer ceramic inductor for high-efficiency DC-DC converters\",\n",
    "    \"ultra-low-power Bluetooth SoC for IoT smart home devices\",\n",
    "    \"thermally stable voltage regulator for telecom base stations\",\n",
    "    \"automated LiDAR module for autonomous delivery drones\",\n",
    "    \"waterproof piezoelectric buzzer for marine instrumentation\",\n",
    "    \"energy-harvesting rectifier circuit for remote sensors\"\n",
    "]\n",
    "\n",
    "print(\"🧪 Testing with new examples:\")\n",
    "print(\"=\" * 50)\n",
    "\n",
    "# Generate embeddings for test descriptions\n",
    "test_embeddings = get_embeddings(client, test_descriptions, EMBEDDING_MODEL)\n",
    "\n",
    "if test_embeddings:\n",
    "    test_X = np.array(test_embeddings)\n",
    "    test_predictions = knn.predict(test_X)\n",
    "    test_probabilities = knn.predict_proba(test_X)\n",
    "    \n",
    "    for i, desc in enumerate(test_descriptions):\n",
    "        predicted_country = class_names[test_predictions[i]]\n",
    "        confidence = test_probabilities[i].max()\n",
    "        \n",
    "        print(f\"\\nTest {i+1}: {desc}\")\n",
    "        print(f\"Predicted Country: {predicted_country}\")\n",
    "        print(f\"Confidence: {confidence:.2f}\")\n",
    "else:\n",
    "    print(\"❌ Failed to generate embeddings for test examples\")"
   ]
  },
  {
   "cell_type": "markdown",
   "metadata": {},
   "source": [
    "## Summary\n",
    "\n",
    "🎉 **Demo Complete!**\n",
    "\n",
    "This notebook demonstrates:\n",
    "- ✅ BGE-Large embeddings via vLLM API\n",
    "- ✅ KNN classification for country prediction\n",
    "- ✅ Model evaluation and visualization\n",
    "- ✅ Real-time inference with new examples\n",
    "\n",
    "The model uses semantic embeddings from transformer models to understand the relationship between part descriptions and their likely countries of origin."
   ]
  }
 ],
 "metadata": {
  "kernelspec": {
   "display_name": "ae-onsite",
   "language": "python",
   "name": "python3"
  },
  "language_info": {
   "codemirror_mode": {
    "name": "ipython",
    "version": 3
   },
   "file_extension": ".py",
   "mimetype": "text/x-python",
   "name": "python",
   "nbconvert_exporter": "python",
   "pygments_lexer": "ipython3",
   "version": "3.11.13"
  }
 },
 "nbformat": 4,
 "nbformat_minor": 4
}
